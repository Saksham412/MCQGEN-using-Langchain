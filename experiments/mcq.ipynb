{
 "cells": [
  {
   "cell_type": "code",
   "execution_count": 1,
   "metadata": {},
   "outputs": [],
   "source": [
    "import os\n",
    "import json\n",
    "import pandas as pd\n",
    "import traceback"
   ]
  },
  {
   "cell_type": "code",
   "execution_count": 2,
   "metadata": {},
   "outputs": [],
   "source": [
    "from langchain.chat_models import ChatOpenAI"
   ]
  },
  {
   "cell_type": "code",
   "execution_count": 8,
   "metadata": {},
   "outputs": [],
   "source": [
    "from dotenv import load_dotenv"
   ]
  },
  {
   "cell_type": "code",
   "execution_count": 9,
   "metadata": {},
   "outputs": [
    {
     "data": {
      "text/plain": [
       "True"
      ]
     },
     "execution_count": 9,
     "metadata": {},
     "output_type": "execute_result"
    }
   ],
   "source": [
    "load_dotenv()"
   ]
  },
  {
   "cell_type": "code",
   "execution_count": 10,
   "metadata": {},
   "outputs": [],
   "source": [
    "KEY = os.getenv(\"OPENAI_API_KEY\")"
   ]
  },
  {
   "cell_type": "code",
   "execution_count": 12,
   "metadata": {},
   "outputs": [],
   "source": [
    "llm = ChatOpenAI(openai_api_key=KEY, model_name=\"gpt-3.5-turbo\", temperature=0.5)"
   ]
  },
  {
   "cell_type": "code",
   "execution_count": 14,
   "metadata": {},
   "outputs": [],
   "source": [
    "from langchain.llms import OpenAI\n",
    "from langchain.prompts import PromptTemplate\n",
    "from langchain.chains import LLMChain, SequentialChain\n",
    "from langchain.callbacks import get_openai_callback\n",
    "import PyPDF2"
   ]
  },
  {
   "cell_type": "code",
   "execution_count": 57,
   "metadata": {},
   "outputs": [],
   "source": [
    "RESPONSE_JSON = {\n",
    "    \"1\":{\n",
    "        \"mcq\": \"multiple choice question\",\n",
    "        \"options\": {\n",
    "            \"a\": \"choice 1\",\n",
    "            \"b\": \"choice 2\",\n",
    "            \"c\": \"choice 3\",\n",
    "            \"d\": \"choice 4\",\n",
    "        },\n",
    "        \"correct\": \"answer\"\n",
    "    },\n",
    "    \"2\":{\n",
    "        \"mcq\": \"multiple choice question\",\n",
    "        \"options\": {\n",
    "            \"a\": \"choice 1\",\n",
    "            \"b\": \"choice 2\",\n",
    "            \"c\": \"choice 3\",\n",
    "            \"d\": \"choice 4\",\n",
    "        },\n",
    "        \"correct\": \"answer\"\n",
    "    },\n",
    "    \"3\":{\n",
    "        \"mcq\": \"multiple choice question\",\n",
    "        \"options\": {\n",
    "            \"a\": \"choice 1\",\n",
    "            \"b\": \"choice 2\",\n",
    "            \"c\": \"choice 3\",\n",
    "            \"d\": \"choice 4\",\n",
    "        },\n",
    "        \"correct\": \"answer\"\n",
    "    }\n",
    "}"
   ]
  },
  {
   "cell_type": "code",
   "execution_count": 58,
   "metadata": {},
   "outputs": [],
   "source": [
    "TEMPLATE = \"\"\"\n",
    "Text: {text}\n",
    "You are an expert MCQ maker. Given the above text, it is your job to \\\n",
    "create a quiz of {number} multiple choice questions for {subject} students in {tone} tone.\n",
    "Make sure the questions are not repeated and check all the questions to be confirming the text as well.\n",
    "Make sure to format your response like RESPONSE_JSON below and use it as a guide. \\\n",
    "Ensure to make {number} MCQ's\n",
    "### RESPONSE_JSON\n",
    "{response_json}\n",
    "\"\"\""
   ]
  },
  {
   "cell_type": "code",
   "execution_count": 59,
   "metadata": {},
   "outputs": [],
   "source": [
    "quiz_generation_prompt = PromptTemplate(\n",
    "    input_variables=[\"text\", \"number\", \"tone\", \"subject\", \"response_json\"],\n",
    "    template=TEMPLATE\n",
    ") "
   ]
  },
  {
   "cell_type": "code",
   "execution_count": 60,
   "metadata": {},
   "outputs": [],
   "source": [
    "quiz_chain = LLMChain(llm=llm, prompt=quiz_generation_prompt, output_key=\"quiz\", verbose=True)"
   ]
  },
  {
   "cell_type": "code",
   "execution_count": 61,
   "metadata": {},
   "outputs": [],
   "source": [
    "TEMPLATE2 = \"\"\"\n",
    "You are an expert english grammarian and writer. Given a Multiple Choice Quiz for {subject} students.\\\n",
    "    You need to evaluate the complexity if the questions and give a complete analysis of the quiz. Only use at max words for complexity, \n",
    "    if he quiz is not at per with the congnitive and analytical abilities of the students,\\\n",
    "    update the quiz questions which needs to be changed and change the tone such that it perfectly fits the student abilities.\n",
    "    Quiz_MCQs:\n",
    "    {quiz}\n",
    "    \n",
    "    Check from an expert English writer of the above quiz:\n",
    "        \n",
    "\"\"\""
   ]
  },
  {
   "cell_type": "code",
   "execution_count": 62,
   "metadata": {},
   "outputs": [],
   "source": [
    "quiz_evaluation_prompt = PromptTemplate(\n",
    "    input_variables=[\"subject\",\"quiz\"],\n",
    "    template=TEMPLATE2\n",
    ")"
   ]
  },
  {
   "cell_type": "code",
   "execution_count": 63,
   "metadata": {},
   "outputs": [],
   "source": [
    "ireview_chain = LLMChain(llm=llm, prompt=quiz_evaluation_prompt, output_key=\"review\", verbose=True)"
   ]
  },
  {
   "cell_type": "code",
   "execution_count": 64,
   "metadata": {},
   "outputs": [],
   "source": [
    "generate_evaluate_chain = SequentialChain(\n",
    "    chains=[quiz_chain, review_chain], \n",
    "    input_variables=[\"text\", \"number\", \"tone\", \"subject\", \"response_json\"], \n",
    "    output_variables=[\"quiz\",\"review\"], \n",
    "    verbose=True\n",
    ")"
   ]
  },
  {
   "cell_type": "code",
   "execution_count": 65,
   "metadata": {},
   "outputs": [],
   "source": [
    "file_path = r\"/Users/saksham/AI/genai/projects/mcqgen/data.txt\""
   ]
  },
  {
   "cell_type": "code",
   "execution_count": 66,
   "metadata": {},
   "outputs": [],
   "source": [
    "with open(file_path, \"r\") as file:\n",
    "    TEXT = file.read()"
   ]
  },
  {
   "cell_type": "code",
   "execution_count": 67,
   "metadata": {},
   "outputs": [
    {
     "name": "stdout",
     "output_type": "stream",
     "text": [
      "Artificial intelligence (AI), in its broadest sense, is intelligence exhibited by machines, particularly computer systems. It is a field of research in computer science that develops and studies methods and software that enable machines to perceive their environment and uses learning and intelligence to take actions that maximize their chances of achieving defined goals.[1] Such machines may be called AIs.\n",
      "\n",
      "AI technology is widely used throughout industry, government, and science. Some high-profile applications include advanced web search engines (e.g., Google Search); recommendation systems (used by YouTube, Amazon, and Netflix); interacting via human speech (e.g., Google Assistant, Siri, and Alexa); autonomous vehicles (e.g., Waymo); generative and creative tools (e.g., ChatGPT and AI art); and superhuman play and analysis in strategy games (e.g., chess and Go).[2] However, many AI applications are not perceived as AI: \"A lot of cutting edge AI has filtered into general applications, often without being called AI because once something becomes useful enough and common enough it's not labeled AI anymore.\"[3][4]\n",
      "\n",
      "Alan Turing was the first person to conduct substantial research in the field that he called machine intelligence.[5] Artificial intelligence was founded as an academic discipline in 1956.[6] The field went through multiple cycles of optimism,[7][8] followed by periods of disappointment and loss of funding, known as AI winter.[9][10] Funding and interest vastly increased after 2012 when deep learning surpassed all previous AI techniques,[11] and after 2017 with the transformer architecture.[12] This led to the AI boom of the early 2020s, with companies, universities, and laboratories overwhelmingly based in the United States pioneering significant advances in artificial intelligence.[13]\n",
      "\n",
      "The growing use of artificial intelligence in the 21st century is influencing a societal and economic shift towards increased automation, data-driven decision-making, and the integration of AI systems into various economic sectors and areas of life, impacting job markets, healthcare, government, industry, and education. This raises questions about the long-term effects, ethical implications, and risks of AI, prompting discussions about regulatory policies to ensure the safety and benefits of the technology.\n",
      "\n",
      "The various subfields of AI research are centered around particular goals and the use of particular tools. The traditional goals of AI research include reasoning, knowledge representation, planning, learning, natural language processing, perception, and support for robotics.[a] General intelligence—the ability to complete any task performable by a human on an at least equal level—is among the field's long-term goals.[14]\n",
      "\n",
      "To reach these goals, AI researchers have adapted and integrated a wide range of techniques, including search and mathematical optimization, formal logic, artificial neural networks, and methods based on statistics, operations research, and economics.[b] AI also draws upon psychology, linguistics, philosophy, neuroscience, and other fields.[15]\n"
     ]
    }
   ],
   "source": [
    "print(TEXT)"
   ]
  },
  {
   "cell_type": "code",
   "execution_count": 68,
   "metadata": {},
   "outputs": [
    {
     "data": {
      "text/plain": [
       "'{\"1\": {\"mcq\": \"multiple choice question\", \"options\": {\"a\": \"choice 1\", \"b\": \"choice 2\", \"c\": \"choice 3\", \"d\": \"choice 4\"}, \"correct\": \"answer\"}, \"2\": {\"mcq\": \"multiple choice question\", \"options\": {\"a\": \"choice 1\", \"b\": \"choice 2\", \"c\": \"choice 3\", \"d\": \"choice 4\"}, \"correct\": \"answer\"}, \"3\": {\"mcq\": \"multiple choice question\", \"options\": {\"a\": \"choice 1\", \"b\": \"choice 2\", \"c\": \"choice 3\", \"d\": \"choice 4\"}, \"correct\": \"answer\"}}'"
      ]
     },
     "execution_count": 68,
     "metadata": {},
     "output_type": "execute_result"
    }
   ],
   "source": [
    "#Serializing the Python dictionary into a JSON-formatted string\n",
    "json.dumps(RESPONSE_JSON)"
   ]
  },
  {
   "cell_type": "code",
   "execution_count": 69,
   "metadata": {},
   "outputs": [],
   "source": [
    "NUMBER = 5\n",
    "SUBJECT = \"Artificial Intelligence\"\n",
    "TONE = \"Simple\""
   ]
  },
  {
   "cell_type": "code",
   "execution_count": 70,
   "metadata": {},
   "outputs": [
    {
     "name": "stdout",
     "output_type": "stream",
     "text": [
      "\n",
      "\n",
      "\u001b[1m> Entering new SequentialChain chain...\u001b[0m\n",
      "\n",
      "\n",
      "\u001b[1m> Entering new LLMChain chain...\u001b[0m\n",
      "Prompt after formatting:\n",
      "\u001b[32;1m\u001b[1;3m\n",
      "Text: Artificial intelligence (AI), in its broadest sense, is intelligence exhibited by machines, particularly computer systems. It is a field of research in computer science that develops and studies methods and software that enable machines to perceive their environment and uses learning and intelligence to take actions that maximize their chances of achieving defined goals.[1] Such machines may be called AIs.\n",
      "\n",
      "AI technology is widely used throughout industry, government, and science. Some high-profile applications include advanced web search engines (e.g., Google Search); recommendation systems (used by YouTube, Amazon, and Netflix); interacting via human speech (e.g., Google Assistant, Siri, and Alexa); autonomous vehicles (e.g., Waymo); generative and creative tools (e.g., ChatGPT and AI art); and superhuman play and analysis in strategy games (e.g., chess and Go).[2] However, many AI applications are not perceived as AI: \"A lot of cutting edge AI has filtered into general applications, often without being called AI because once something becomes useful enough and common enough it's not labeled AI anymore.\"[3][4]\n",
      "\n",
      "Alan Turing was the first person to conduct substantial research in the field that he called machine intelligence.[5] Artificial intelligence was founded as an academic discipline in 1956.[6] The field went through multiple cycles of optimism,[7][8] followed by periods of disappointment and loss of funding, known as AI winter.[9][10] Funding and interest vastly increased after 2012 when deep learning surpassed all previous AI techniques,[11] and after 2017 with the transformer architecture.[12] This led to the AI boom of the early 2020s, with companies, universities, and laboratories overwhelmingly based in the United States pioneering significant advances in artificial intelligence.[13]\n",
      "\n",
      "The growing use of artificial intelligence in the 21st century is influencing a societal and economic shift towards increased automation, data-driven decision-making, and the integration of AI systems into various economic sectors and areas of life, impacting job markets, healthcare, government, industry, and education. This raises questions about the long-term effects, ethical implications, and risks of AI, prompting discussions about regulatory policies to ensure the safety and benefits of the technology.\n",
      "\n",
      "The various subfields of AI research are centered around particular goals and the use of particular tools. The traditional goals of AI research include reasoning, knowledge representation, planning, learning, natural language processing, perception, and support for robotics.[a] General intelligence—the ability to complete any task performable by a human on an at least equal level—is among the field's long-term goals.[14]\n",
      "\n",
      "To reach these goals, AI researchers have adapted and integrated a wide range of techniques, including search and mathematical optimization, formal logic, artificial neural networks, and methods based on statistics, operations research, and economics.[b] AI also draws upon psychology, linguistics, philosophy, neuroscience, and other fields.[15]\n",
      "You are an expert MCQ maker. Given the above text, it is your job to create a quiz of 5 multiple choice questions for Artificial Intelligence students in Simple tone.\n",
      "Make sure the questions are not repeated and check all the questions to be confirming the text as well.\n",
      "Make sure to format your response like RESPONSE_JSON below and use it as a guide. Ensure to make 5 MCQ's\n",
      "### RESPONSE_JSON\n",
      "{\"1\": {\"mcq\": \"multiple choice question\", \"options\": {\"a\": \"choice 1\", \"b\": \"choice 2\", \"c\": \"choice 3\", \"d\": \"choice 4\"}, \"correct\": \"answer\"}, \"2\": {\"mcq\": \"multiple choice question\", \"options\": {\"a\": \"choice 1\", \"b\": \"choice 2\", \"c\": \"choice 3\", \"d\": \"choice 4\"}, \"correct\": \"answer\"}, \"3\": {\"mcq\": \"multiple choice question\", \"options\": {\"a\": \"choice 1\", \"b\": \"choice 2\", \"c\": \"choice 3\", \"d\": \"choice 4\"}, \"correct\": \"answer\"}}\n",
      "\u001b[0m\n",
      "\n",
      "\u001b[1m> Finished chain.\u001b[0m\n",
      "\n",
      "\n",
      "\u001b[1m> Entering new LLMChain chain...\u001b[0m\n",
      "Prompt after formatting:\n",
      "\u001b[32;1m\u001b[1;3m\n",
      "You are an expert english grammarian and writer. Given a Multiple Choice Quiz for Artificial Intelligence students.    You need to evaluate the complexity if the questions and give a complete analysis of the quiz. Only use at max words for complexity, \n",
      "    if he quiz is not at per with the congnitive and analytical abilities of the students,    update the quiz questions which needs to be changed and change the tone such that it perfectly fits the student abilities.\n",
      "    Quiz_MCQs:\n",
      "    {\n",
      "\"1\": {\n",
      "\"mcq\": \"What is the broadest sense of artificial intelligence (AI)?\",\n",
      "\"options\": {\n",
      "\"a\": \"Intelligence exhibited by humans\",\n",
      "\"b\": \"Intelligence exhibited by machines\",\n",
      "\"c\": \"Intelligence exhibited by animals\",\n",
      "\"d\": \"Intelligence exhibited by plants\"\n",
      "},\n",
      "\"correct\": \"b\"\n",
      "},\n",
      "\"2\": {\n",
      "\"mcq\": \"Who was the first person to conduct substantial research in machine intelligence?\",\n",
      "\"options\": {\n",
      "\"a\": \"Alan Turing\",\n",
      "\"b\": \"Albert Einstein\",\n",
      "\"c\": \"Isaac Newton\",\n",
      "\"d\": \"Charles Babbage\"\n",
      "},\n",
      "\"correct\": \"a\"\n",
      "},\n",
      "\"3\": {\n",
      "\"mcq\": \"Which technology surpassed all previous AI techniques after 2012?\",\n",
      "\"options\": {\n",
      "\"a\": \"Machine Learning\",\n",
      "\"b\": \"Deep Learning\",\n",
      "\"c\": \"Artificial Neural Networks\",\n",
      "\"d\": \"Statistical Analysis\"\n",
      "},\n",
      "\"correct\": \"b\"\n",
      "},\n",
      "\"4\": {\n",
      "\"mcq\": \"What is one of the long-term goals of AI research?\",\n",
      "\"options\": {\n",
      "\"a\": \"Creating robots with emotions\",\n",
      "\"b\": \"Achieving general intelligence\",\n",
      "\"c\": \"Developing time travel\",\n",
      "\"d\": \"Building flying cars\"\n",
      "},\n",
      "\"correct\": \"b\"\n",
      "},\n",
      "\"5\": {\n",
      "\"mcq\": \"Which field does AI draw upon for its research?\",\n",
      "\"options\": {\n",
      "\"a\": \"Biology\",\n",
      "\"b\": \"Psychology\",\n",
      "\"c\": \"Geology\",\n",
      "\"d\": \"Meteorology\"\n",
      "},\n",
      "\"correct\": \"b\"\n",
      "}\n",
      "}\n",
      "    \n",
      "    Check from an expert English writer of the above quiz:\n",
      "        \n",
      "\u001b[0m\n",
      "\n",
      "\u001b[1m> Finished chain.\u001b[0m\n",
      "\n",
      "\u001b[1m> Finished chain.\u001b[0m\n"
     ]
    }
   ],
   "source": [
    "# Setup token usage tracking in langchain\n",
    "\n",
    "with get_openai_callback() as cb:\n",
    "    response = generate_evaluate_chain(\n",
    "        {\n",
    "            \"text\": TEXT,\n",
    "            \"number\": NUMBER,\n",
    "            \"subject\": SUBJECT,\n",
    "            \"tone\": TONE,\n",
    "            \"response_json\": json.dumps(RESPONSE_JSON)\n",
    "        }\n",
    "    )"
   ]
  },
  {
   "cell_type": "code",
   "execution_count": 71,
   "metadata": {},
   "outputs": [
    {
     "data": {
      "text/plain": [
       "Tokens Used: 1753\n",
       "\tPrompt Tokens: 1276\n",
       "\tCompletion Tokens: 477\n",
       "Successful Requests: 2\n",
       "Total Cost (USD): $0.002868"
      ]
     },
     "execution_count": 71,
     "metadata": {},
     "output_type": "execute_result"
    }
   ],
   "source": [
    "cb"
   ]
  },
  {
   "cell_type": "code",
   "execution_count": 72,
   "metadata": {},
   "outputs": [
    {
     "data": {
      "text/plain": [
       "{'text': 'Artificial intelligence (AI), in its broadest sense, is intelligence exhibited by machines, particularly computer systems. It is a field of research in computer science that develops and studies methods and software that enable machines to perceive their environment and uses learning and intelligence to take actions that maximize their chances of achieving defined goals.[1] Such machines may be called AIs.\\n\\nAI technology is widely used throughout industry, government, and science. Some high-profile applications include advanced web search engines (e.g., Google Search); recommendation systems (used by YouTube, Amazon, and Netflix); interacting via human speech (e.g., Google Assistant, Siri, and Alexa); autonomous vehicles (e.g., Waymo); generative and creative tools (e.g., ChatGPT and AI art); and superhuman play and analysis in strategy games (e.g., chess and Go).[2] However, many AI applications are not perceived as AI: \"A lot of cutting edge AI has filtered into general applications, often without being called AI because once something becomes useful enough and common enough it\\'s not labeled AI anymore.\"[3][4]\\n\\nAlan Turing was the first person to conduct substantial research in the field that he called machine intelligence.[5] Artificial intelligence was founded as an academic discipline in 1956.[6] The field went through multiple cycles of optimism,[7][8] followed by periods of disappointment and loss of funding, known as AI winter.[9][10] Funding and interest vastly increased after 2012 when deep learning surpassed all previous AI techniques,[11] and after 2017 with the transformer architecture.[12] This led to the AI boom of the early 2020s, with companies, universities, and laboratories overwhelmingly based in the United States pioneering significant advances in artificial intelligence.[13]\\n\\nThe growing use of artificial intelligence in the 21st century is influencing a societal and economic shift towards increased automation, data-driven decision-making, and the integration of AI systems into various economic sectors and areas of life, impacting job markets, healthcare, government, industry, and education. This raises questions about the long-term effects, ethical implications, and risks of AI, prompting discussions about regulatory policies to ensure the safety and benefits of the technology.\\n\\nThe various subfields of AI research are centered around particular goals and the use of particular tools. The traditional goals of AI research include reasoning, knowledge representation, planning, learning, natural language processing, perception, and support for robotics.[a] General intelligence—the ability to complete any task performable by a human on an at least equal level—is among the field\\'s long-term goals.[14]\\n\\nTo reach these goals, AI researchers have adapted and integrated a wide range of techniques, including search and mathematical optimization, formal logic, artificial neural networks, and methods based on statistics, operations research, and economics.[b] AI also draws upon psychology, linguistics, philosophy, neuroscience, and other fields.[15]',\n",
       " 'number': 5,\n",
       " 'subject': 'Artificial Intelligence',\n",
       " 'tone': 'Simple',\n",
       " 'response_json': '{\"1\": {\"mcq\": \"multiple choice question\", \"options\": {\"a\": \"choice 1\", \"b\": \"choice 2\", \"c\": \"choice 3\", \"d\": \"choice 4\"}, \"correct\": \"answer\"}, \"2\": {\"mcq\": \"multiple choice question\", \"options\": {\"a\": \"choice 1\", \"b\": \"choice 2\", \"c\": \"choice 3\", \"d\": \"choice 4\"}, \"correct\": \"answer\"}, \"3\": {\"mcq\": \"multiple choice question\", \"options\": {\"a\": \"choice 1\", \"b\": \"choice 2\", \"c\": \"choice 3\", \"d\": \"choice 4\"}, \"correct\": \"answer\"}}',\n",
       " 'quiz': '{\\n\"1\": {\\n\"mcq\": \"What is the broadest sense of artificial intelligence (AI)?\",\\n\"options\": {\\n\"a\": \"Intelligence exhibited by humans\",\\n\"b\": \"Intelligence exhibited by machines\",\\n\"c\": \"Intelligence exhibited by animals\",\\n\"d\": \"Intelligence exhibited by plants\"\\n},\\n\"correct\": \"b\"\\n},\\n\"2\": {\\n\"mcq\": \"Who was the first person to conduct substantial research in machine intelligence?\",\\n\"options\": {\\n\"a\": \"Alan Turing\",\\n\"b\": \"Albert Einstein\",\\n\"c\": \"Isaac Newton\",\\n\"d\": \"Charles Babbage\"\\n},\\n\"correct\": \"a\"\\n},\\n\"3\": {\\n\"mcq\": \"Which technology surpassed all previous AI techniques after 2012?\",\\n\"options\": {\\n\"a\": \"Machine Learning\",\\n\"b\": \"Deep Learning\",\\n\"c\": \"Artificial Neural Networks\",\\n\"d\": \"Statistical Analysis\"\\n},\\n\"correct\": \"b\"\\n},\\n\"4\": {\\n\"mcq\": \"What is one of the long-term goals of AI research?\",\\n\"options\": {\\n\"a\": \"Creating robots with emotions\",\\n\"b\": \"Achieving general intelligence\",\\n\"c\": \"Developing time travel\",\\n\"d\": \"Building flying cars\"\\n},\\n\"correct\": \"b\"\\n},\\n\"5\": {\\n\"mcq\": \"Which field does AI draw upon for its research?\",\\n\"options\": {\\n\"a\": \"Biology\",\\n\"b\": \"Psychology\",\\n\"c\": \"Geology\",\\n\"d\": \"Meteorology\"\\n},\\n\"correct\": \"b\"\\n}\\n}',\n",
       " 'review': 'The complexity of the quiz is moderate, suitable for students studying Artificial Intelligence. The questions cover a range of topics within AI, from definitions to historical figures and advancements in technology. The language used is clear and concise, making it accessible to students at this level.\\n\\nHowever, there are a few areas that could be improved for better alignment with student abilities. For example, question 4 could be revised to include more concrete options related to AI research goals, rather than fantastical ideas like time travel or flying cars. Additionally, the tone of the quiz could be adjusted to be more engaging and interactive for students, perhaps by including real-world examples or practical applications of AI.\\n\\nOverall, with some minor adjustments to the quiz questions and tone, it can better cater to the cognitive and analytical abilities of Artificial Intelligence students.'}"
      ]
     },
     "execution_count": 72,
     "metadata": {},
     "output_type": "execute_result"
    }
   ],
   "source": [
    "response"
   ]
  },
  {
   "cell_type": "code",
   "execution_count": 73,
   "metadata": {},
   "outputs": [],
   "source": [
    "quiz = response.get(\"quiz\")"
   ]
  },
  {
   "cell_type": "code",
   "execution_count": 74,
   "metadata": {},
   "outputs": [
    {
     "data": {
      "text/plain": [
       "'{\\n\"1\": {\\n\"mcq\": \"What is the broadest sense of artificial intelligence (AI)?\",\\n\"options\": {\\n\"a\": \"Intelligence exhibited by humans\",\\n\"b\": \"Intelligence exhibited by machines\",\\n\"c\": \"Intelligence exhibited by animals\",\\n\"d\": \"Intelligence exhibited by plants\"\\n},\\n\"correct\": \"b\"\\n},\\n\"2\": {\\n\"mcq\": \"Who was the first person to conduct substantial research in machine intelligence?\",\\n\"options\": {\\n\"a\": \"Alan Turing\",\\n\"b\": \"Albert Einstein\",\\n\"c\": \"Isaac Newton\",\\n\"d\": \"Charles Babbage\"\\n},\\n\"correct\": \"a\"\\n},\\n\"3\": {\\n\"mcq\": \"Which technology surpassed all previous AI techniques after 2012?\",\\n\"options\": {\\n\"a\": \"Machine Learning\",\\n\"b\": \"Deep Learning\",\\n\"c\": \"Artificial Neural Networks\",\\n\"d\": \"Statistical Analysis\"\\n},\\n\"correct\": \"b\"\\n},\\n\"4\": {\\n\"mcq\": \"What is one of the long-term goals of AI research?\",\\n\"options\": {\\n\"a\": \"Creating robots with emotions\",\\n\"b\": \"Achieving general intelligence\",\\n\"c\": \"Developing time travel\",\\n\"d\": \"Building flying cars\"\\n},\\n\"correct\": \"b\"\\n},\\n\"5\": {\\n\"mcq\": \"Which field does AI draw upon for its research?\",\\n\"options\": {\\n\"a\": \"Biology\",\\n\"b\": \"Psychology\",\\n\"c\": \"Geology\",\\n\"d\": \"Meteorology\"\\n},\\n\"correct\": \"b\"\\n}\\n}'"
      ]
     },
     "execution_count": 74,
     "metadata": {},
     "output_type": "execute_result"
    }
   ],
   "source": [
    "quiz"
   ]
  },
  {
   "cell_type": "code",
   "execution_count": 75,
   "metadata": {},
   "outputs": [],
   "source": [
    "quiz = json.loads(quiz)"
   ]
  },
  {
   "cell_type": "code",
   "execution_count": 76,
   "metadata": {},
   "outputs": [],
   "source": [
    "quiz_table_data = []\n",
    "\n",
    "for key, value in quiz.items():\n",
    "\n",
    "    mcq = value[\"mcq\"]\n",
    "    if \"options\" in value:\n",
    "        options = \" | \".join(\n",
    "            [\n",
    "                f\"{option}: {option_value}\"\n",
    "                for option, option_value in value[\"options\"].items()\n",
    "            ]\n",
    "        )\n",
    "    else:\n",
    "        options = \"No options available\"\n",
    "    correct = value.get(\"correct\", \"No correct answer specified\")\n",
    "    quiz_table_data.append({\"MCQ\": mcq, \"Choices\": options, \"Correct\": correct})"
   ]
  },
  {
   "cell_type": "code",
   "execution_count": 77,
   "metadata": {},
   "outputs": [
    {
     "data": {
      "text/plain": [
       "[{'MCQ': 'What is the broadest sense of artificial intelligence (AI)?',\n",
       "  'Choices': 'a: Intelligence exhibited by humans | b: Intelligence exhibited by machines | c: Intelligence exhibited by animals | d: Intelligence exhibited by plants',\n",
       "  'Correct': 'b'},\n",
       " {'MCQ': 'Who was the first person to conduct substantial research in machine intelligence?',\n",
       "  'Choices': 'a: Alan Turing | b: Albert Einstein | c: Isaac Newton | d: Charles Babbage',\n",
       "  'Correct': 'a'},\n",
       " {'MCQ': 'Which technology surpassed all previous AI techniques after 2012?',\n",
       "  'Choices': 'a: Machine Learning | b: Deep Learning | c: Artificial Neural Networks | d: Statistical Analysis',\n",
       "  'Correct': 'b'},\n",
       " {'MCQ': 'What is one of the long-term goals of AI research?',\n",
       "  'Choices': 'a: Creating robots with emotions | b: Achieving general intelligence | c: Developing time travel | d: Building flying cars',\n",
       "  'Correct': 'b'},\n",
       " {'MCQ': 'Which field does AI draw upon for its research?',\n",
       "  'Choices': 'a: Biology | b: Psychology | c: Geology | d: Meteorology',\n",
       "  'Correct': 'b'}]"
      ]
     },
     "execution_count": 77,
     "metadata": {},
     "output_type": "execute_result"
    }
   ],
   "source": [
    "quiz_table_data"
   ]
  },
  {
   "cell_type": "code",
   "execution_count": 79,
   "metadata": {},
   "outputs": [],
   "source": [
    "quiz_df = pd.DataFrame(quiz_table_data)"
   ]
  },
  {
   "cell_type": "code",
   "execution_count": 80,
   "metadata": {},
   "outputs": [
    {
     "data": {
      "text/html": [
       "<div>\n",
       "<style scoped>\n",
       "    .dataframe tbody tr th:only-of-type {\n",
       "        vertical-align: middle;\n",
       "    }\n",
       "\n",
       "    .dataframe tbody tr th {\n",
       "        vertical-align: top;\n",
       "    }\n",
       "\n",
       "    .dataframe thead th {\n",
       "        text-align: right;\n",
       "    }\n",
       "</style>\n",
       "<table border=\"1\" class=\"dataframe\">\n",
       "  <thead>\n",
       "    <tr style=\"text-align: right;\">\n",
       "      <th></th>\n",
       "      <th>MCQ</th>\n",
       "      <th>Choices</th>\n",
       "      <th>Correct</th>\n",
       "    </tr>\n",
       "  </thead>\n",
       "  <tbody>\n",
       "    <tr>\n",
       "      <th>0</th>\n",
       "      <td>What is the broadest sense of artificial intel...</td>\n",
       "      <td>a: Intelligence exhibited by humans | b: Intel...</td>\n",
       "      <td>b</td>\n",
       "    </tr>\n",
       "    <tr>\n",
       "      <th>1</th>\n",
       "      <td>Who was the first person to conduct substantia...</td>\n",
       "      <td>a: Alan Turing | b: Albert Einstein | c: Isaac...</td>\n",
       "      <td>a</td>\n",
       "    </tr>\n",
       "    <tr>\n",
       "      <th>2</th>\n",
       "      <td>Which technology surpassed all previous AI tec...</td>\n",
       "      <td>a: Machine Learning | b: Deep Learning | c: Ar...</td>\n",
       "      <td>b</td>\n",
       "    </tr>\n",
       "    <tr>\n",
       "      <th>3</th>\n",
       "      <td>What is one of the long-term goals of AI resea...</td>\n",
       "      <td>a: Creating robots with emotions | b: Achievin...</td>\n",
       "      <td>b</td>\n",
       "    </tr>\n",
       "    <tr>\n",
       "      <th>4</th>\n",
       "      <td>Which field does AI draw upon for its research?</td>\n",
       "      <td>a: Biology | b: Psychology | c: Geology | d: M...</td>\n",
       "      <td>b</td>\n",
       "    </tr>\n",
       "  </tbody>\n",
       "</table>\n",
       "</div>"
      ],
      "text/plain": [
       "                                                 MCQ  \\\n",
       "0  What is the broadest sense of artificial intel...   \n",
       "1  Who was the first person to conduct substantia...   \n",
       "2  Which technology surpassed all previous AI tec...   \n",
       "3  What is one of the long-term goals of AI resea...   \n",
       "4    Which field does AI draw upon for its research?   \n",
       "\n",
       "                                             Choices Correct  \n",
       "0  a: Intelligence exhibited by humans | b: Intel...       b  \n",
       "1  a: Alan Turing | b: Albert Einstein | c: Isaac...       a  \n",
       "2  a: Machine Learning | b: Deep Learning | c: Ar...       b  \n",
       "3  a: Creating robots with emotions | b: Achievin...       b  \n",
       "4  a: Biology | b: Psychology | c: Geology | d: M...       b  "
      ]
     },
     "execution_count": 80,
     "metadata": {},
     "output_type": "execute_result"
    }
   ],
   "source": [
    "quiz_df"
   ]
  },
  {
   "cell_type": "code",
   "execution_count": 81,
   "metadata": {},
   "outputs": [],
   "source": [
    "quiz_df.to_csv(\"aiquiz.csv\", index=False)"
   ]
  },
  {
   "cell_type": "code",
   "execution_count": null,
   "metadata": {},
   "outputs": [],
   "source": []
  }
 ],
 "metadata": {
  "kernelspec": {
   "display_name": "Python 3",
   "language": "python",
   "name": "python3"
  },
  "language_info": {
   "codemirror_mode": {
    "name": "ipython",
    "version": 3
   },
   "file_extension": ".py",
   "mimetype": "text/x-python",
   "name": "python",
   "nbconvert_exporter": "python",
   "pygments_lexer": "ipython3",
   "version": "3.9.19"
  }
 },
 "nbformat": 4,
 "nbformat_minor": 2
}
